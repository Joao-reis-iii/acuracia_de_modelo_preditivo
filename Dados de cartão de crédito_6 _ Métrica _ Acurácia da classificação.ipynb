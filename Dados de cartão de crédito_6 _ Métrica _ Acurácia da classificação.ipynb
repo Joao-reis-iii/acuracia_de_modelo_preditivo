{
 "cells": [
  {
   "cell_type": "markdown",
   "id": "0b6da54e",
   "metadata": {},
   "source": [
    "# ACURÁCIA DE MODELO PREDITIVO\n",
    "\n",
    "#  A conta ficará ou não inadimplente no próximo mês?\n",
    "\n",
    "Criação de um modelo preditivo para classificar a variável \"Falta de pagamento no próximo mês\".\n",
    "\n",
    "\n",
    "Regressão logística relacionando as variáveis \"Nível educacional [EDUCATION]\" e \"Falta de pagamento no próximo mês\" [default_payment_next_month]\" de dataset de empresa de cartão de crédito. \n",
    "\n",
    "Divisão do dataset em três pares de conjuntos de dados de treinamento e teste (75/25, 90/10 e 60/40).\n",
    "\n",
    "Comparação de médias entre os dados de treinamento e teste.\n",
    "\n",
    "Avaliação da acurácia de classificação (proporção de amostras que foram classificadas corretamente) com uma máscara lógica.\n",
    "\n",
    "-------------------\n",
    "Esta postagem interpreta e reproduz a estratégia de análise de Klosterman (2019).\n"
   ]
  },
  {
   "cell_type": "code",
   "execution_count": 1,
   "id": "9ecffae9",
   "metadata": {},
   "outputs": [],
   "source": [
    "import numpy as np"
   ]
  },
  {
   "cell_type": "markdown",
   "id": "fb5deb17",
   "metadata": {},
   "source": [
    "________________________________ \n",
    "A estratégia a seguir é de criação de dados sintéticos. Será criado um valor de resposta, com seed aleatório (dados sintéticos aleatórios criados pelo Numpy). \n"
   ]
  },
  {
   "cell_type": "code",
   "execution_count": 2,
   "id": "780f1d67",
   "metadata": {},
   "outputs": [
    {
     "data": {
      "text/plain": [
       "array([4.17022005e+00, 7.20324493e+00, 1.14374817e-03, 3.02332573e+00,\n",
       "       1.46755891e+00, 9.23385948e-01, 1.86260211e+00, 3.45560727e+00,\n",
       "       3.96767474e+00, 5.38816734e+00])"
      ]
     },
     "execution_count": 2,
     "metadata": {},
     "output_type": "execute_result"
    }
   ],
   "source": [
    "np.random.seed(seed=1)\n",
    "X = np.random.uniform(low=0.0, high=10.0, size=(1000,))\n",
    "X[0:10]"
   ]
  },
  {
   "cell_type": "raw",
   "id": "44d7f7e9",
   "metadata": {},
   "source": [
    "Criação array 1000 pontos de dados sintéticos aleatórios. A média do ruído (loc) será definida como 0 e desvio padrão (scale) 1"
   ]
  },
  {
   "cell_type": "code",
   "execution_count": 3,
   "id": "47a1fff9",
   "metadata": {},
   "outputs": [],
   "source": [
    "np.random.seed(seed=1)\n",
    "slope = 0.25\n",
    "intercept = -1.25\n",
    "y = slope * X + np.random.normal(loc=0.0, scale=1.0, size=(1000,)) + intercept"
   ]
  },
  {
   "cell_type": "markdown",
   "id": "d8209449",
   "metadata": {},
   "source": [
    "IMPORTAR E INSTANCIAR A CLASSE DE MODELO DE REGRESSÃO LINEAR DO SCIKIT-LEARN.\n",
    "A regressão linear - linha de melhor ajuste - será feita com os dados sintéticos criados acima."
   ]
  },
  {
   "cell_type": "code",
   "execution_count": 4,
   "id": "35c005c9",
   "metadata": {},
   "outputs": [],
   "source": [
    "import sklearn"
   ]
  },
  {
   "cell_type": "code",
   "execution_count": 5,
   "id": "2fabd5fc",
   "metadata": {},
   "outputs": [
    {
     "data": {
      "text/plain": [
       "LinearRegression()"
      ]
     },
     "execution_count": 5,
     "metadata": {},
     "output_type": "execute_result"
    }
   ],
   "source": [
    "from sklearn.linear_model import LinearRegression\n",
    "lin_reg = LinearRegression()\n",
    "lin_reg"
   ]
  },
  {
   "cell_type": "markdown",
   "id": "69359417",
   "metadata": {},
   "source": [
    "# MÉTRICAS DE DESEMPENHO DE MODELOS PARA CLASSIFICAÇÃO BINÁRIA"
   ]
  },
  {
   "cell_type": "markdown",
   "id": "d04fc0cd",
   "metadata": {},
   "source": [
    "# Dataset para análise: cartão de crédito"
   ]
  },
  {
   "cell_type": "code",
   "execution_count": 6,
   "id": "9148bb6d",
   "metadata": {},
   "outputs": [],
   "source": [
    "import pandas as pd"
   ]
  },
  {
   "cell_type": "code",
   "execution_count": 7,
   "id": "02f677dd",
   "metadata": {},
   "outputs": [],
   "source": [
    "df = pd.read_csv('C:/Users/Joao3/Chapter_1_cleaned_data.csv')"
   ]
  },
  {
   "cell_type": "markdown",
   "id": "38d3c4c3",
   "metadata": {},
   "source": [
    "# RELACIONAMENTO ENTRE AS VARIÁVEIS 'EDUCATION' vs 'default payment next month'\n",
    "\n",
    "# Divisão dos dados para treinamento e teste\n",
    "\n",
    "# Primeiro exemplo de divisão dos dados: em conjuntos de treinamento (75%) e teste (25%)\n"
   ]
  },
  {
   "cell_type": "code",
   "execution_count": 8,
   "id": "e69d929a",
   "metadata": {},
   "outputs": [],
   "source": [
    "from sklearn.model_selection import train_test_split\n",
    "X_train, X_test, y_train, y_test = train_test_split(\n",
    "df['EDUCATION'].values.reshape(-1,1), df['default payment next month'].values,\n",
    "test_size=0.25, random_state=24)"
   ]
  },
  {
   "cell_type": "markdown",
   "id": "9368ab2f",
   "metadata": {},
   "source": [
    "VERIFICAÇÃO DOS CONJUNTOS DE TREINAMENTO E TESTE"
   ]
  },
  {
   "cell_type": "code",
   "execution_count": 9,
   "id": "be66a7f1",
   "metadata": {},
   "outputs": [
    {
     "name": "stdout",
     "output_type": "stream",
     "text": [
      "(19998, 1)\n",
      "(6666, 1)\n",
      "(19998,)\n",
      "(6666,)\n"
     ]
    }
   ],
   "source": [
    "print(X_train.shape) #X=EDUCATION\n",
    "print(X_test.shape)\n",
    "print(y_train.shape) #y=default payment next month\n",
    "print(y_test.shape)"
   ]
  },
  {
   "cell_type": "markdown",
   "id": "9b5bb4a7",
   "metadata": {},
   "source": [
    "# Verificação das médias dos conjuntos de treino e de teste - Frações das classes nos dados.\n",
    "Observamos a seguir que as médias são semelhantes."
   ]
  },
  {
   "cell_type": "code",
   "execution_count": 10,
   "id": "285115f4",
   "metadata": {},
   "outputs": [
    {
     "data": {
      "text/plain": [
       "0.22287228722872288"
      ]
     },
     "execution_count": 10,
     "metadata": {},
     "output_type": "execute_result"
    }
   ],
   "source": [
    "np.mean(y_train)   #Média da variável 'default payment next month' da amostra de treinamento"
   ]
  },
  {
   "cell_type": "code",
   "execution_count": 11,
   "id": "f8d52631",
   "metadata": {},
   "outputs": [
    {
     "data": {
      "text/plain": [
       "0.21857185718571856"
      ]
     },
     "execution_count": 11,
     "metadata": {},
     "output_type": "execute_result"
    }
   ],
   "source": [
    "np.mean(y_test)    #Média da variável 'default payment next month' da AMOSTRA DE TESTE"
   ]
  },
  {
   "cell_type": "code",
   "execution_count": 13,
   "id": "73f2012c",
   "metadata": {},
   "outputs": [],
   "source": [
    "from sklearn.linear_model import LogisticRegression"
   ]
  },
  {
   "cell_type": "code",
   "execution_count": 14,
   "id": "e7c517d0",
   "metadata": {},
   "outputs": [],
   "source": [
    "example_lr = LogisticRegression(C=0.1, class_weight=None, dual=False, fit_intercept=True,\n",
    "          intercept_scaling=1, max_iter=100, multi_class='auto',\n",
    "          n_jobs=None, penalty='l2', random_state=None, solver='liblinear',\n",
    "          tol=0.0001, verbose=0, warm_start=False)"
   ]
  },
  {
   "cell_type": "code",
   "execution_count": 15,
   "id": "4c6dd12d",
   "metadata": {},
   "outputs": [
    {
     "data": {
      "text/plain": [
       "LogisticRegression(C=0.1, solver='liblinear')"
      ]
     },
     "execution_count": 15,
     "metadata": {},
     "output_type": "execute_result"
    }
   ],
   "source": [
    "example_lr.fit(X_train, y_train)"
   ]
  },
  {
   "cell_type": "markdown",
   "id": "c9e0fe2e",
   "metadata": {},
   "source": [
    "PREDIÇÃO NO CONJUNTO DE TESTE"
   ]
  },
  {
   "cell_type": "markdown",
   "id": "4297ab44",
   "metadata": {},
   "source": [
    "# Avaliação da métrica acurácia\n"
   ]
  },
  {
   "cell_type": "code",
   "execution_count": 16,
   "id": "db28cb4b",
   "metadata": {},
   "outputs": [],
   "source": [
    "y_pred = example_lr.predict(X_test)"
   ]
  },
  {
   "cell_type": "markdown",
   "id": "7c1708d7",
   "metadata": {},
   "source": [
    "# Acurácia da classificação com uma máscara lógica"
   ]
  },
  {
   "cell_type": "code",
   "execution_count": 17,
   "id": "e3766b6c",
   "metadata": {},
   "outputs": [],
   "source": [
    "is_correct75 = y_pred == y_test"
   ]
  },
  {
   "cell_type": "code",
   "execution_count": 18,
   "id": "fa243919",
   "metadata": {},
   "outputs": [
    {
     "data": {
      "text/plain": [
       "0.7814281428142814"
      ]
     },
     "execution_count": 18,
     "metadata": {},
     "output_type": "execute_result"
    }
   ],
   "source": [
    "np.mean(is_correct75)"
   ]
  },
  {
   "cell_type": "markdown",
   "id": "693779b5",
   "metadata": {},
   "source": [
    "# Acurácia da classificação com o scikit-learn"
   ]
  },
  {
   "cell_type": "code",
   "execution_count": 19,
   "id": "a1e149e0",
   "metadata": {},
   "outputs": [
    {
     "data": {
      "text/plain": [
       "0.7814281428142814"
      ]
     },
     "execution_count": 19,
     "metadata": {},
     "output_type": "execute_result"
    }
   ],
   "source": [
    "example_lr.score(X_test, y_test)"
   ]
  },
  {
   "cell_type": "markdown",
   "id": "a37d0791",
   "metadata": {},
   "source": [
    "# Medida da acurácia ao comparar os resultados do treino e do teste"
   ]
  },
  {
   "cell_type": "code",
   "execution_count": 20,
   "id": "7ae93062",
   "metadata": {},
   "outputs": [],
   "source": [
    "from sklearn import metrics"
   ]
  },
  {
   "cell_type": "code",
   "execution_count": 21,
   "id": "5eb7dae2",
   "metadata": {},
   "outputs": [
    {
     "data": {
      "text/plain": [
       "0.7814281428142814"
      ]
     },
     "execution_count": 21,
     "metadata": {},
     "output_type": "execute_result"
    }
   ],
   "source": [
    "metrics.accuracy_score(y_test, y_pred)"
   ]
  },
  {
   "cell_type": "markdown",
   "id": "c72ac7ba",
   "metadata": {},
   "source": [
    "# Segundo exemplo de divisão dos dados: em conjuntos de treinamento (90%) e teste (10%)\n"
   ]
  },
  {
   "cell_type": "code",
   "execution_count": 22,
   "id": "02c28500",
   "metadata": {},
   "outputs": [],
   "source": [
    "from sklearn.model_selection import train_test_split\n",
    "X_train, X_test, y_train, y_test = train_test_split(\n",
    "df['EDUCATION'].values.reshape(-1,1), df['default payment next month'].values,\n",
    "test_size=0.10, random_state=24)"
   ]
  },
  {
   "cell_type": "code",
   "execution_count": 23,
   "id": "2b7863c4",
   "metadata": {},
   "outputs": [
    {
     "name": "stdout",
     "output_type": "stream",
     "text": [
      "(23997, 1)\n",
      "(2667, 1)\n",
      "(23997,)\n",
      "(2667,)\n"
     ]
    }
   ],
   "source": [
    "print(X_train.shape) #X=EDUCATION\n",
    "print(X_test.shape)\n",
    "print(y_train.shape) #y=default payment next month\n",
    "print(y_test.shape)"
   ]
  },
  {
   "cell_type": "code",
   "execution_count": 24,
   "id": "f8f60194",
   "metadata": {},
   "outputs": [
    {
     "data": {
      "text/plain": [
       "0.22177772221527692"
      ]
     },
     "execution_count": 24,
     "metadata": {},
     "output_type": "execute_result"
    }
   ],
   "source": [
    "np.mean(y_train)  #Média da variável 'default payment next month' da amostra de treinamento"
   ]
  },
  {
   "cell_type": "code",
   "execution_count": 25,
   "id": "637567fc",
   "metadata": {},
   "outputs": [
    {
     "data": {
      "text/plain": [
       "0.22197225346831645"
      ]
     },
     "execution_count": 25,
     "metadata": {},
     "output_type": "execute_result"
    }
   ],
   "source": [
    "np.mean(y_test) #Média da variável 'default payment next month' da AMOSTRA DE TESTE"
   ]
  },
  {
   "cell_type": "code",
   "execution_count": 26,
   "id": "4b7f1aae",
   "metadata": {},
   "outputs": [
    {
     "data": {
      "text/plain": [
       "LogisticRegression(C=0.1, solver='liblinear')"
      ]
     },
     "execution_count": 26,
     "metadata": {},
     "output_type": "execute_result"
    }
   ],
   "source": [
    "example_lr.fit(X_train, y_train)"
   ]
  },
  {
   "cell_type": "markdown",
   "id": "c593028d",
   "metadata": {},
   "source": [
    "PREDIÇÃO NO CONJUNTO DE TESTE"
   ]
  },
  {
   "cell_type": "code",
   "execution_count": 27,
   "id": "6277563e",
   "metadata": {},
   "outputs": [],
   "source": [
    "y_pred = example_lr.predict(X_test)"
   ]
  },
  {
   "cell_type": "markdown",
   "id": "926744c3",
   "metadata": {},
   "source": [
    "# Acurácia da classificação com uma máscara lógica"
   ]
  },
  {
   "cell_type": "code",
   "execution_count": 28,
   "id": "b3b7e3ae",
   "metadata": {},
   "outputs": [],
   "source": [
    "is_correct90 = y_pred == y_test"
   ]
  },
  {
   "cell_type": "code",
   "execution_count": 29,
   "id": "a5e57cfc",
   "metadata": {},
   "outputs": [
    {
     "data": {
      "text/plain": [
       "0.7780277465316835"
      ]
     },
     "execution_count": 29,
     "metadata": {},
     "output_type": "execute_result"
    }
   ],
   "source": [
    "np.mean(is_correct90)"
   ]
  },
  {
   "cell_type": "markdown",
   "id": "cc725c14",
   "metadata": {},
   "source": [
    "# Acurácia da classificação com o scikit-learn"
   ]
  },
  {
   "cell_type": "code",
   "execution_count": 30,
   "id": "84d4b5a4",
   "metadata": {},
   "outputs": [
    {
     "data": {
      "text/plain": [
       "0.7780277465316835"
      ]
     },
     "execution_count": 30,
     "metadata": {},
     "output_type": "execute_result"
    }
   ],
   "source": [
    "example_lr.score(X_test, y_test)"
   ]
  },
  {
   "cell_type": "code",
   "execution_count": 31,
   "id": "378aad74",
   "metadata": {},
   "outputs": [
    {
     "data": {
      "text/plain": [
       "0.7780277465316835"
      ]
     },
     "execution_count": 31,
     "metadata": {},
     "output_type": "execute_result"
    }
   ],
   "source": [
    "metrics.accuracy_score(y_test, y_pred)"
   ]
  },
  {
   "cell_type": "markdown",
   "id": "a0a4ee58",
   "metadata": {},
   "source": [
    "# Terceiro exemplo de divisão dos dados: em conjuntos de treinamento (60%) e teste (40%)\n"
   ]
  },
  {
   "cell_type": "code",
   "execution_count": 32,
   "id": "fdb55cf1",
   "metadata": {},
   "outputs": [],
   "source": [
    "from sklearn.model_selection import train_test_split\n",
    "X_train, X_test, y_train, y_test = train_test_split(\n",
    "df['EDUCATION'].values.reshape(-1,1), df['default payment next month'].values,\n",
    "test_size=0.4, random_state=24)"
   ]
  },
  {
   "cell_type": "code",
   "execution_count": 33,
   "id": "e5ba22df",
   "metadata": {},
   "outputs": [
    {
     "name": "stdout",
     "output_type": "stream",
     "text": [
      "(15998, 1)\n",
      "(10666, 1)\n",
      "(15998,)\n",
      "(10666,)\n"
     ]
    }
   ],
   "source": [
    "print(X_train.shape) #X=EDUCATION\n",
    "print(X_test.shape)\n",
    "print(y_train.shape) #y=default payment next month\n",
    "print(y_test.shape)"
   ]
  },
  {
   "cell_type": "code",
   "execution_count": 34,
   "id": "9ce96cb9",
   "metadata": {},
   "outputs": [
    {
     "data": {
      "text/plain": [
       "0.22209026128266032"
      ]
     },
     "execution_count": 34,
     "metadata": {},
     "output_type": "execute_result"
    }
   ],
   "source": [
    "np.mean(y_train) #Média da variável 'default payment next month' da amostra de treinamento"
   ]
  },
  {
   "cell_type": "code",
   "execution_count": 35,
   "id": "66ad087d",
   "metadata": {},
   "outputs": [
    {
     "data": {
      "text/plain": [
       "0.22135758484905307"
      ]
     },
     "execution_count": 35,
     "metadata": {},
     "output_type": "execute_result"
    }
   ],
   "source": [
    "np.mean(y_test)  #Média da variável 'default payment next month' da AMOSTRA DE TESTE"
   ]
  },
  {
   "cell_type": "code",
   "execution_count": 36,
   "id": "721283c8",
   "metadata": {},
   "outputs": [
    {
     "data": {
      "text/plain": [
       "LogisticRegression(C=0.1, solver='liblinear')"
      ]
     },
     "execution_count": 36,
     "metadata": {},
     "output_type": "execute_result"
    }
   ],
   "source": [
    "example_lr.fit(X_train, y_train)"
   ]
  },
  {
   "cell_type": "markdown",
   "id": "804fb4fc",
   "metadata": {},
   "source": [
    "PREDIÇÃO NO CONJUNTO DE TESTE"
   ]
  },
  {
   "cell_type": "code",
   "execution_count": 37,
   "id": "a5cc9a3e",
   "metadata": {},
   "outputs": [],
   "source": [
    "y_pred = example_lr.predict(X_test)"
   ]
  },
  {
   "cell_type": "markdown",
   "id": "9c56d992",
   "metadata": {},
   "source": [
    "# Acurácia da classificação com uma máscara lógica"
   ]
  },
  {
   "cell_type": "code",
   "execution_count": 38,
   "id": "c1d80ea9",
   "metadata": {},
   "outputs": [],
   "source": [
    "is_correct60 = y_pred == y_test"
   ]
  },
  {
   "cell_type": "code",
   "execution_count": 43,
   "id": "4e0de0ca",
   "metadata": {},
   "outputs": [
    {
     "data": {
      "text/plain": [
       "0.7786424151509469"
      ]
     },
     "execution_count": 43,
     "metadata": {},
     "output_type": "execute_result"
    }
   ],
   "source": [
    "np.mean(is_correct60) "
   ]
  },
  {
   "cell_type": "markdown",
   "id": "0a0252f6",
   "metadata": {},
   "source": [
    "# Acurácia da classificação com o scikit-learn"
   ]
  },
  {
   "cell_type": "code",
   "execution_count": 44,
   "id": "ea0e6a72",
   "metadata": {},
   "outputs": [
    {
     "data": {
      "text/plain": [
       "0.7786424151509469"
      ]
     },
     "execution_count": 44,
     "metadata": {},
     "output_type": "execute_result"
    }
   ],
   "source": [
    "example_lr.score(X_test, y_test) "
   ]
  },
  {
   "cell_type": "code",
   "execution_count": 41,
   "id": "7b927a26",
   "metadata": {},
   "outputs": [
    {
     "data": {
      "text/plain": [
       "0.7786424151509469"
      ]
     },
     "execution_count": 41,
     "metadata": {},
     "output_type": "execute_result"
    }
   ],
   "source": [
    "metrics.accuracy_score(y_test, y_pred)"
   ]
  }
 ],
 "metadata": {
  "kernelspec": {
   "display_name": "Python 3",
   "language": "python",
   "name": "python3"
  },
  "language_info": {
   "codemirror_mode": {
    "name": "ipython",
    "version": 3
   },
   "file_extension": ".py",
   "mimetype": "text/x-python",
   "name": "python",
   "nbconvert_exporter": "python",
   "pygments_lexer": "ipython3",
   "version": "3.8.8"
  }
 },
 "nbformat": 4,
 "nbformat_minor": 5
}
